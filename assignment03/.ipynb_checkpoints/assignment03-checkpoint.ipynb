{
 "cells": [
  {
   "cell_type": "markdown",
   "metadata": {},
   "source": [
    "# This script demonstrates K-means algorithm\n",
    "# Name : Ji-Su Lee\n",
    "# Student ID : 20141718\n",
    "# import packages for plotting graphs and manipulating data:"
   ]
  },
  {
   "cell_type": "code",
   "execution_count": 80,
   "metadata": {},
   "outputs": [],
   "source": [
    "import numpy as np\n",
    "import matplotlib.pyplot as plt\n",
    "import random\n",
    "import matplotlib.cm as cm\n",
    "import seaborn as sns\n",
    "import itertools"
   ]
  },
  {
   "cell_type": "code",
   "execution_count": 60,
   "metadata": {},
   "outputs": [],
   "source": [
    "# define function to generate random point cluster"
   ]
  },
  {
   "cell_type": "code",
   "execution_count": 76,
   "metadata": {},
   "outputs": [],
   "source": [
    "def generatePointCluster(nCluster, nPoint):\n",
    "    a = np.random.rand(2, nCluster * nPoint)\n",
    "    for i in range(nCluster):\n",
    "        x_m = np.mean(a[0][i*nPoint:(i+1)*nPoint])\n",
    "        y_m = np.mean(a[1][i*nPoint:(i+1)*nPoint])\n",
    "        x_c = np.random.rand()*400 - 200\n",
    "        y_c = np.random.rand()*400 - 200\n",
    "        '''\n",
    "        print(\"x_m : \", x_m)\n",
    "        print(\"y_m : \", y_m)\n",
    "        print(\"x_c : \", x_c)\n",
    "        print(\"y_c : \", y_c)\n",
    "        '''\n",
    "        for j in range(i*nPoint, (i+1)*nPoint):\n",
    "            a[0][j] = (a[0][j] - x_m)*100 + x_c\n",
    "            a[1][j] = (a[1][j] - y_m)*100 + y_c\n",
    "        \n",
    "    \"\"\"\n",
    "    a = np.random.rand(nCluster, 3, nPoint)\n",
    "    for i in range(nCluster):\n",
    "        x_m = np.mean(a[i][0])\n",
    "        y_m = np.mean(a[i][1])\n",
    "        x_c = np.random.rand()*200 - 100\n",
    "        y_c = np.random.rand()*200 - 100\n",
    "        for j in range(nPoint):\n",
    "            a[i][0][j] = (a[i][0][j] - x_m)*100 + x_c\n",
    "            a[i][1][j] = (a[i][1][j] - y_m)*100 + y_c\n",
    "            \"\"\"\n",
    "    return a\n",
    "\n",
    "#print(generatePointCluster(3, 10))"
   ]
  },
  {
   "cell_type": "code",
   "execution_count": 62,
   "metadata": {},
   "outputs": [],
   "source": [
    "# define function to compute distance between two points"
   ]
  },
  {
   "cell_type": "code",
   "execution_count": 63,
   "metadata": {},
   "outputs": [],
   "source": [
    "def computeDistance(x1, y1, x2, y2):\n",
    "    dsquare = np.square(x2-x1) + np.square(y2-y1)\n",
    "    return np.sqrt(dsquare)"
   ]
  },
  {
   "cell_type": "code",
   "execution_count": 64,
   "metadata": {},
   "outputs": [],
   "source": [
    "# function to make distance list"
   ]
  },
  {
   "cell_type": "code",
   "execution_count": 65,
   "metadata": {},
   "outputs": [],
   "source": [
    "def makeDistList(nCluster, pointList, cenList):\n",
    "    distList = []\n",
    "    for i in range(len(pointList[0])):\n",
    "        cenDist = []\n",
    "        for j in range(nCluster):\n",
    "            cenDist.append(computeDistance(pointList[0][i], pointList[1][i], \\\n",
    "                                          cenList[j][0], cenList[j][1]))\n",
    "        distList.append(cenDist)\n",
    "    return distList"
   ]
  },
  {
   "cell_type": "code",
   "execution_count": 66,
   "metadata": {},
   "outputs": [],
   "source": [
    "# define function to initialise label"
   ]
  },
  {
   "cell_type": "code",
   "execution_count": 67,
   "metadata": {},
   "outputs": [],
   "source": [
    "def initialiseLabel(nCluster, nPoint):\n",
    "    a = []\n",
    "    for i in range(nCluster*nPoint):\n",
    "        a.append(random.randint(1, nCluster)-1)\n",
    "            \n",
    "    return a\n",
    "#print(initialiseLabel(3,20))"
   ]
  },
  {
   "cell_type": "code",
   "execution_count": 68,
   "metadata": {},
   "outputs": [],
   "source": [
    "# define function to compute centroid"
   ]
  },
  {
   "cell_type": "code",
   "execution_count": 69,
   "metadata": {},
   "outputs": [],
   "source": [
    "def computeCentroid(nCluster, nPoint, pointList, labelList):\n",
    "    a = []\n",
    "    res = []\n",
    "    #initialise list [sum_x, sum_y, num]\n",
    "    for i in range(nCluster):\n",
    "        a.append([0, 0, 0]) \n",
    "    for i in range(nCluster*nPoint):\n",
    "        a[labelList[i]][2] += 1\n",
    "        a[labelList[i]][0] += pointList[0][i]\n",
    "        a[labelList[i]][1] += pointList[1][i]\n",
    "    # get centroid by calculating mean value\n",
    "    for i in range(nCluster):\n",
    "        if(a[i][2] != 0):\n",
    "            res.append([a[i][0]/float(a[i][2]), a[i][1]/float(a[i][2])])\n",
    "    \n",
    "    return res"
   ]
  },
  {
   "cell_type": "markdown",
   "metadata": {},
   "source": [
    "# debugging\n",
    "nCluster = 3\n",
    "nPoint = 2\n",
    "a = generatePointCluster(nCluster, nPoint)\n",
    "b = initialiseLabel(nCluster, nPoint)\n",
    "print(a)\n",
    "print(b)\n",
    "c = computeCentroid(nCluster, nPoint, a, b)\n",
    "print(c)"
   ]
  },
  {
   "cell_type": "code",
   "execution_count": 70,
   "metadata": {},
   "outputs": [],
   "source": [
    "# define fuction to assign label"
   ]
  },
  {
   "cell_type": "code",
   "execution_count": 71,
   "metadata": {},
   "outputs": [],
   "source": [
    "def assignLabel(nAllPoints, distList):\n",
    "    res = []\n",
    "    for i in range(nAllPoints):\n",
    "        res.append(0)\n",
    "    for i in range(nAllPoints):\n",
    "        #print(\"i : \", i, distList[i])\n",
    "        res[i] = distList[i].index(np.amin(distList[i]))\n",
    "    return res"
   ]
  },
  {
   "cell_type": "markdown",
   "metadata": {},
   "source": [
    "#debugging\n",
    "distList = [[0, 1, 2], [3, 9, 13], [4, 0, 19], [31, 0, 9], [1, 1, 1], [2, 3, 4]]\n",
    "d = assignLabel(nCluster*nPoint, distList)\n",
    "print(d)"
   ]
  },
  {
   "cell_type": "code",
   "execution_count": 72,
   "metadata": {},
   "outputs": [],
   "source": [
    "# define function to compute energy"
   ]
  },
  {
   "cell_type": "code",
   "execution_count": 73,
   "metadata": {},
   "outputs": [],
   "source": [
    " # param : number of all points, list of points, list of centroid for each clusters, list of label for each points\n",
    "def computeEnergy(nAllPoints, pointList, cenList, labelList):\n",
    "    energy = 0\n",
    "    for i in range(nAllPoints):\n",
    "        energy += np.square(computeDistance(pointList[0][i], pointList[1][i], \\\n",
    "                                            cenList[labelList[i]][0], cenList[labelList[i]][1]))\n",
    "    energy = float(energy)/nAllPoints\n",
    "    return energy"
   ]
  },
  {
   "cell_type": "code",
   "execution_count": 78,
   "metadata": {},
   "outputs": [
    {
     "name": "stdout",
     "output_type": "stream",
     "text": [
      "0\n",
      "label :  [2, 2, 0, 1, 1, 0, 2, 2, 3, 0, 3, 2, 0, 2, 0, 2, 1, 3, 0, 0, 1, 2, 2, 1, 0, 3, 0, 0, 3, 3, 1, 1, 0, 2, 1, 3, 0, 3, 1, 3, 2, 2, 2, 0, 0, 1, 2, 2, 3, 3, 2, 3, 3, 0, 3, 3, 1, 0, 1, 2, 0, 1, 3, 2, 0, 0, 3, 3, 3, 0, 1, 3, 1, 2, 1, 2, 3, 3, 0, 1, 2, 0, 2, 3, 2, 3, 0, 0, 3, 2, 3, 1, 3, 0, 1, 0, 3, 2, 3, 3, 0, 1, 2, 1, 2, 2, 0, 0, 0, 2, 1, 1, 3, 2, 2, 0, 3, 3, 3, 0, 0, 3, 0, 2, 1, 3, 3, 3, 0, 3, 2, 3, 1, 3, 1, 0, 2, 2, 2, 2, 3, 0, 1, 3, 1, 1, 3, 0, 3, 1, 2, 0, 3, 0, 1, 3, 2, 1, 2, 0, 3, 3, 3, 1, 2, 2, 2, 3, 3, 0, 2, 1, 2, 2, 1, 2, 1, 0, 0, 0, 0, 2, 1, 1, 3, 2, 1, 1, 0, 1, 2, 1, 0, 3, 2, 0, 2, 1, 3, 1]\n",
      "centroid :  [[4.113646366352202, 0.28006126140537585], [-6.295021174113689, -19.706829908884234], [-8.408185278344503, -11.976378879416824], [40.10912412222585, 13.00997621240184]]\n",
      "energy :  27408.701616224855\n",
      "1\n",
      "label :  [1, 1, 1, 1, 1, 2, 1, 2, 1, 1, 2, 1, 2, 1, 1, 1, 1, 1, 1, 1, 1, 1, 1, 1, 1, 1, 1, 2, 1, 1, 1, 1, 1, 1, 1, 1, 1, 1, 2, 1, 2, 1, 1, 1, 2, 1, 1, 1, 1, 1, 3, 3, 3, 3, 3, 3, 3, 3, 3, 3, 3, 3, 3, 3, 3, 3, 3, 3, 3, 3, 3, 3, 3, 3, 3, 3, 3, 3, 3, 3, 3, 3, 3, 3, 3, 3, 3, 3, 3, 3, 3, 3, 3, 3, 3, 3, 3, 3, 3, 3, 0, 3, 0, 3, 3, 3, 0, 3, 3, 3, 3, 0, 3, 3, 0, 3, 3, 3, 3, 3, 0, 3, 0, 3, 3, 3, 0, 3, 3, 3, 0, 3, 3, 3, 3, 0, 3, 3, 3, 3, 0, 0, 3, 3, 0, 0, 0, 3, 3, 3, 1, 1, 1, 1, 1, 1, 1, 1, 1, 1, 1, 1, 1, 1, 1, 1, 1, 1, 1, 1, 1, 1, 1, 1, 1, 1, 1, 1, 1, 1, 1, 1, 1, 1, 1, 1, 1, 1, 1, 1, 1, 1, 1, 1, 1, 1, 1, 1, 1, 1]\n",
      "centroid :  [[-33.465004942166864, 112.42330183887861], [-80.02251734736343, -124.37807376818742], [-58.847115632574635, -21.240942184178564], [117.97867679634459, 107.83247379216321]]\n",
      "energy :  5943.955499978238\n",
      "2\n",
      "label :  [1, 2, 2, 2, 1, 2, 1, 2, 1, 1, 2, 2, 2, 2, 1, 1, 1, 1, 2, 1, 2, 2, 2, 2, 1, 1, 1, 2, 1, 1, 2, 2, 1, 2, 2, 1, 2, 2, 2, 2, 2, 1, 2, 1, 2, 1, 2, 2, 1, 1, 3, 3, 3, 3, 3, 3, 3, 3, 3, 3, 3, 3, 3, 3, 3, 3, 3, 3, 3, 3, 3, 3, 3, 3, 3, 3, 3, 3, 3, 3, 3, 3, 3, 3, 3, 3, 3, 3, 3, 3, 3, 3, 3, 3, 3, 3, 3, 3, 3, 3, 0, 0, 0, 0, 0, 0, 0, 0, 3, 0, 0, 0, 0, 0, 0, 0, 0, 0, 0, 3, 0, 0, 0, 0, 0, 0, 0, 0, 0, 0, 0, 0, 0, 0, 3, 0, 0, 0, 3, 0, 0, 0, 0, 0, 0, 0, 0, 0, 0, 0, 1, 1, 1, 1, 1, 1, 1, 1, 1, 1, 1, 1, 1, 1, 1, 1, 1, 1, 1, 1, 1, 1, 1, 1, 1, 1, 1, 1, 1, 1, 1, 1, 1, 1, 1, 1, 1, 1, 1, 1, 1, 1, 1, 1, 1, 1, 1, 1, 1, 1]\n",
      "centroid :  [[-2.3934292362280316, 114.51019098756954], [-93.39558680590991, -142.8957320631617], [-39.58450967830419, -47.29348627139387], [178.4501888596904, 103.41927804608987]]\n",
      "energy :  2525.0334894935995\n",
      "3\n",
      "label :  [2, 2, 2, 2, 2, 2, 1, 2, 2, 2, 2, 2, 2, 2, 2, 2, 1, 1, 2, 1, 2, 2, 2, 2, 2, 2, 2, 2, 1, 1, 2, 2, 2, 2, 2, 2, 2, 2, 2, 2, 2, 2, 2, 2, 2, 2, 2, 2, 1, 2, 3, 3, 3, 3, 3, 3, 3, 3, 3, 3, 3, 3, 3, 3, 3, 3, 3, 3, 3, 3, 3, 3, 3, 3, 3, 3, 3, 3, 3, 3, 3, 3, 3, 3, 3, 3, 3, 3, 3, 3, 3, 3, 3, 3, 3, 3, 3, 3, 3, 3, 0, 0, 0, 0, 0, 0, 0, 0, 0, 0, 0, 0, 0, 0, 0, 0, 0, 0, 0, 0, 0, 0, 0, 0, 0, 0, 0, 0, 0, 0, 0, 0, 0, 0, 0, 0, 0, 0, 0, 0, 0, 0, 0, 0, 0, 0, 0, 0, 0, 0, 1, 1, 1, 1, 1, 1, 1, 1, 1, 1, 1, 1, 1, 1, 1, 1, 1, 1, 1, 1, 1, 1, 1, 1, 1, 1, 1, 1, 1, 1, 1, 1, 1, 1, 1, 1, 1, 1, 1, 1, 1, 1, 1, 1, 1, 1, 1, 1, 1, 1]\n",
      "centroid :  [[1.3521334043182625, 117.39855628645472], [-107.35458653041232, -156.30775317026007], [-39.85202532057045, -62.864381242833616], [189.1721156668176, 99.64363971188635]]\n",
      "energy :  1737.9457952824198\n",
      "4\n",
      "label :  [2, 2, 2, 2, 2, 2, 2, 2, 2, 2, 2, 2, 2, 2, 2, 2, 2, 2, 2, 2, 2, 2, 2, 2, 2, 2, 2, 2, 1, 1, 2, 2, 2, 2, 2, 2, 2, 2, 2, 2, 2, 2, 2, 2, 2, 2, 2, 2, 2, 2, 3, 3, 3, 3, 3, 3, 3, 3, 3, 3, 3, 3, 3, 3, 3, 3, 3, 3, 3, 3, 3, 3, 3, 3, 3, 3, 3, 3, 3, 3, 3, 3, 3, 3, 3, 3, 3, 3, 3, 3, 3, 3, 3, 3, 3, 3, 3, 3, 3, 3, 0, 0, 0, 0, 0, 0, 0, 0, 0, 0, 0, 0, 0, 0, 0, 0, 0, 0, 0, 0, 0, 0, 0, 0, 0, 0, 0, 0, 0, 0, 0, 0, 0, 0, 0, 0, 0, 0, 0, 0, 0, 0, 0, 0, 0, 0, 0, 0, 0, 0, 1, 1, 1, 1, 1, 1, 1, 1, 1, 1, 1, 1, 1, 1, 1, 1, 1, 1, 1, 1, 1, 1, 1, 1, 1, 1, 1, 1, 1, 1, 1, 1, 1, 1, 1, 1, 1, 1, 1, 1, 1, 1, 1, 1, 1, 1, 1, 1, 1, 1]\n",
      "centroid :  [[1.3521334043182625, 117.39855628645472], [-110.782922253326, -161.79953160252734], [-43.16951174677246, -66.64863918365096], [189.1721156668176, 99.64363971188635]]\n",
      "energy :  1665.9888523902528\n",
      "5\n",
      "label :  [2, 2, 2, 2, 2, 2, 2, 2, 2, 2, 2, 2, 2, 2, 2, 2, 2, 2, 2, 2, 2, 2, 2, 2, 2, 2, 2, 2, 1, 2, 2, 2, 2, 2, 2, 2, 2, 2, 2, 2, 2, 2, 2, 2, 2, 2, 2, 2, 2, 2, 3, 3, 3, 3, 3, 3, 3, 3, 3, 3, 3, 3, 3, 3, 3, 3, 3, 3, 3, 3, 3, 3, 3, 3, 3, 3, 3, 3, 3, 3, 3, 3, 3, 3, 3, 3, 3, 3, 3, 3, 3, 3, 3, 3, 3, 3, 3, 3, 3, 3, 0, 0, 0, 0, 0, 0, 0, 0, 0, 0, 0, 0, 0, 0, 0, 0, 0, 0, 0, 0, 0, 0, 0, 0, 0, 0, 0, 0, 0, 0, 0, 0, 0, 0, 0, 0, 0, 0, 0, 0, 0, 0, 0, 0, 0, 0, 0, 0, 0, 0, 1, 1, 1, 1, 1, 1, 1, 1, 1, 1, 1, 1, 1, 1, 1, 1, 1, 1, 1, 1, 1, 1, 1, 1, 1, 1, 1, 1, 1, 1, 1, 1, 1, 1, 1, 1, 1, 1, 1, 1, 1, 1, 1, 1, 1, 1, 1, 1, 1, 1]\n",
      "centroid :  [[1.3521334043182625, 117.39855628645472], [-111.05567060824417, -163.07067507608258], [-44.2654963264812, -67.26746725033583], [189.1721156668176, 99.64363971188635]]\n",
      "energy :  1662.2062081371841\n",
      "6\n",
      "label :  [2, 2, 2, 2, 2, 2, 2, 2, 2, 2, 2, 2, 2, 2, 2, 2, 2, 2, 2, 2, 2, 2, 2, 2, 2, 2, 2, 2, 2, 2, 2, 2, 2, 2, 2, 2, 2, 2, 2, 2, 2, 2, 2, 2, 2, 2, 2, 2, 2, 2, 3, 3, 3, 3, 3, 3, 3, 3, 3, 3, 3, 3, 3, 3, 3, 3, 3, 3, 3, 3, 3, 3, 3, 3, 3, 3, 3, 3, 3, 3, 3, 3, 3, 3, 3, 3, 3, 3, 3, 3, 3, 3, 3, 3, 3, 3, 3, 3, 3, 3, 0, 0, 0, 0, 0, 0, 0, 0, 0, 0, 0, 0, 0, 0, 0, 0, 0, 0, 0, 0, 0, 0, 0, 0, 0, 0, 0, 0, 0, 0, 0, 0, 0, 0, 0, 0, 0, 0, 0, 0, 0, 0, 0, 0, 0, 0, 0, 0, 0, 0, 1, 1, 1, 1, 1, 1, 1, 1, 1, 1, 1, 1, 1, 1, 1, 1, 1, 1, 1, 1, 1, 1, 1, 1, 1, 1, 1, 1, 1, 1, 1, 1, 1, 1, 1, 1, 1, 1, 1, 1, 1, 1, 1, 1, 1, 1, 1, 1, 1, 1]\n",
      "centroid :  [[1.3521334043182625, 117.39855628645472], [-111.35177096533107, -164.31845863710544], [-45.305199455029545, -67.93574784582793], [189.1721156668176, 99.64363971188635]]\n",
      "energy :  1659.9499318555534\n",
      "7\n",
      "label :  [2, 2, 2, 2, 2, 2, 2, 2, 2, 2, 2, 2, 2, 2, 2, 2, 2, 2, 2, 2, 2, 2, 2, 2, 2, 2, 2, 2, 2, 2, 2, 2, 2, 2, 2, 2, 2, 2, 2, 2, 2, 2, 2, 2, 2, 2, 2, 2, 2, 2, 3, 3, 3, 3, 3, 3, 3, 3, 3, 3, 3, 3, 3, 3, 3, 3, 3, 3, 3, 3, 3, 3, 3, 3, 3, 3, 3, 3, 3, 3, 3, 3, 3, 3, 3, 3, 3, 3, 3, 3, 3, 3, 3, 3, 3, 3, 3, 3, 3, 3, 0, 0, 0, 0, 0, 0, 0, 0, 0, 0, 0, 0, 0, 0, 0, 0, 0, 0, 0, 0, 0, 0, 0, 0, 0, 0, 0, 0, 0, 0, 0, 0, 0, 0, 0, 0, 0, 0, 0, 0, 0, 0, 0, 0, 0, 0, 0, 0, 0, 0, 1, 1, 1, 1, 1, 1, 1, 1, 1, 1, 1, 1, 1, 1, 1, 1, 1, 1, 1, 1, 1, 1, 1, 1, 1, 1, 1, 1, 1, 1, 1, 1, 1, 1, 1, 1, 1, 1, 1, 1, 1, 1, 1, 1, 1, 1, 1, 1, 1, 1]\n",
      "centroid :  [[1.3521334043182625, 117.39855628645472], [-111.35177096533107, -164.31845863710544], [-45.305199455029545, -67.93574784582793], [189.1721156668176, 99.64363971188635]]\n",
      "energy :  1659.9499318555534\n",
      "8\n",
      "label :  [2, 2, 2, 2, 2, 2, 2, 2, 2, 2, 2, 2, 2, 2, 2, 2, 2, 2, 2, 2, 2, 2, 2, 2, 2, 2, 2, 2, 2, 2, 2, 2, 2, 2, 2, 2, 2, 2, 2, 2, 2, 2, 2, 2, 2, 2, 2, 2, 2, 2, 3, 3, 3, 3, 3, 3, 3, 3, 3, 3, 3, 3, 3, 3, 3, 3, 3, 3, 3, 3, 3, 3, 3, 3, 3, 3, 3, 3, 3, 3, 3, 3, 3, 3, 3, 3, 3, 3, 3, 3, 3, 3, 3, 3, 3, 3, 3, 3, 3, 3, 0, 0, 0, 0, 0, 0, 0, 0, 0, 0, 0, 0, 0, 0, 0, 0, 0, 0, 0, 0, 0, 0, 0, 0, 0, 0, 0, 0, 0, 0, 0, 0, 0, 0, 0, 0, 0, 0, 0, 0, 0, 0, 0, 0, 0, 0, 0, 0, 0, 0, 1, 1, 1, 1, 1, 1, 1, 1, 1, 1, 1, 1, 1, 1, 1, 1, 1, 1, 1, 1, 1, 1, 1, 1, 1, 1, 1, 1, 1, 1, 1, 1, 1, 1, 1, 1, 1, 1, 1, 1, 1, 1, 1, 1, 1, 1, 1, 1, 1, 1]\n",
      "centroid :  [[1.3521334043182625, 117.39855628645472], [-111.35177096533107, -164.31845863710544], [-45.305199455029545, -67.93574784582793], [189.1721156668176, 99.64363971188635]]\n",
      "energy :  1659.9499318555534\n",
      "9\n",
      "label :  [2, 2, 2, 2, 2, 2, 2, 2, 2, 2, 2, 2, 2, 2, 2, 2, 2, 2, 2, 2, 2, 2, 2, 2, 2, 2, 2, 2, 2, 2, 2, 2, 2, 2, 2, 2, 2, 2, 2, 2, 2, 2, 2, 2, 2, 2, 2, 2, 2, 2, 3, 3, 3, 3, 3, 3, 3, 3, 3, 3, 3, 3, 3, 3, 3, 3, 3, 3, 3, 3, 3, 3, 3, 3, 3, 3, 3, 3, 3, 3, 3, 3, 3, 3, 3, 3, 3, 3, 3, 3, 3, 3, 3, 3, 3, 3, 3, 3, 3, 3, 0, 0, 0, 0, 0, 0, 0, 0, 0, 0, 0, 0, 0, 0, 0, 0, 0, 0, 0, 0, 0, 0, 0, 0, 0, 0, 0, 0, 0, 0, 0, 0, 0, 0, 0, 0, 0, 0, 0, 0, 0, 0, 0, 0, 0, 0, 0, 0, 0, 0, 1, 1, 1, 1, 1, 1, 1, 1, 1, 1, 1, 1, 1, 1, 1, 1, 1, 1, 1, 1, 1, 1, 1, 1, 1, 1, 1, 1, 1, 1, 1, 1, 1, 1, 1, 1, 1, 1, 1, 1, 1, 1, 1, 1, 1, 1, 1, 1, 1, 1]\n",
      "centroid :  [[1.3521334043182625, 117.39855628645472], [-111.35177096533107, -164.31845863710544], [-45.305199455029545, -67.93574784582793], [189.1721156668176, 99.64363971188635]]\n",
      "energy :  1659.9499318555534\n"
     ]
    }
   ],
   "source": [
    "#debugging\n",
    "nCluster = 4\n",
    "nPoints = 50\n",
    "nAllPoints = nCluster*nPoints\n",
    "psPointList = generatePointCluster(nCluster, nPoints)\n",
    "psLabel = initialiseLabel(nCluster, nPoints)\n",
    "label_0 = psLabel\n",
    "#label_0 = initialiseLabel(Cluster, nPoints)\n",
    "#def computeEnergy(nAllPoints, pointList, cenList, labelList):\n",
    "for i in range(10):\n",
    "    print(i)\n",
    "    print(\"label : \", label_0)\n",
    "    cen_0 = computeCentroid(nCluster, nPoints, psPointList, label_0)\n",
    "    #print(\"centroid : \", cen_0)\n",
    "    dist_0 = makeDistList(nCluster, psPointList, cen_0)\n",
    "    #print(\"dist : \", dist_0)\n",
    "    energy = computeEnergy(nAllPoints, psPointList, cen_0, label_0)\n",
    "    print(\"energy : \", energy)\n",
    "    for j in range(nAllPoints):\n",
    "        colors = itertools.cycle(sns.color_palette())\n",
    "    label_0 = assignLabel(nAllPoints, dist_0)\n",
    "    "
   ]
  },
  {
   "cell_type": "code",
   "execution_count": 79,
   "metadata": {},
   "outputs": [
    {
     "data": {
      "image/png": "[encoded data removed]",
      "text/plain": [
       "<Figure size 432x288 with 1 Axes>"
      ]
     },
     "metadata": {},
     "output_type": "display_data"
    }
   ],
   "source": [
    "plt.plot([1,2,3,4], [1,4,9,16], 'ro')\n",
    "plt.plot([-1,2,-3,4], [1,-4,9,-16], 'bo')\n",
    "plt.axis([-10, 10, -10, 20])\n",
    "plt.show()"
   ]
  },
  {
   "cell_type": "code",
   "execution_count": null,
   "metadata": {},
   "outputs": [],
   "source": []
  }
 ],
 "metadata": {
  "kernelspec": {
   "display_name": "Python 3",
   "language": "python",
   "name": "python3"
  },
  "language_info": {
   "codemirror_mode": {
    "name": "ipython",
    "version": 3
   },
   "file_extension": ".py",
   "mimetype": "text/x-python",
   "name": "python",
   "nbconvert_exporter": "python",
   "pygments_lexer": "ipython3",
   "version": "3.6.5"
  }
 },
 "nbformat": 4,
 "nbformat_minor": 2
}
