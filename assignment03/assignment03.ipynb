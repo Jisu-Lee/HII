{
 "cells": [
  {
   "cell_type": "markdown",
   "metadata": {},
   "source": [
    "# This script demonstrates K-means algorithm\n",
    "# Name : Ji-Su Lee\n",
    "# Student ID : 20141718\n",
    "# github link : https://github.com/Jisu-Lee/HII/tree/master/assignment03"
   ]
  },
  {
   "cell_type": "markdown",
   "metadata": {},
   "source": [
    "# import packages for plotting graphs and manipulating data:"
   ]
  },
  {
   "cell_type": "code",
   "execution_count": 11,
   "metadata": {},
   "outputs": [],
   "source": [
    "import numpy as np\n",
    "import matplotlib.pyplot as plt\n",
    "import random\n",
    "import matplotlib.cm as cm"
   ]
  },
  {
   "cell_type": "markdown",
   "metadata": {},
   "source": [
    "# define function to generate random point cluster"
   ]
  },
  {
   "cell_type": "code",
   "execution_count": 12,
   "metadata": {},
   "outputs": [],
   "source": [
    "def generatePointCluster(nCluster, nPoint):\n",
    "    a = np.random.rand(2, nCluster * nPoint)\n",
    "    for i in range(nCluster):\n",
    "        x_m = np.mean(a[0][i*nPoint:(i+1)*nPoint])\n",
    "        y_m = np.mean(a[1][i*nPoint:(i+1)*nPoint])\n",
    "        x_c = np.random.rand()*500 - 250\n",
    "        y_c = np.random.rand()*500 - 250\n",
    "        for j in range(i*nPoint, (i+1)*nPoint):\n",
    "            a[0][j] = (a[0][j] - x_m)*100 + x_c\n",
    "            a[1][j] = (a[1][j] - y_m)*100 + y_c\n",
    "    return a"
   ]
  },
  {
   "cell_type": "markdown",
   "metadata": {},
   "source": [
    "# define function to compute distance between two points"
   ]
  },
  {
   "cell_type": "code",
   "execution_count": 13,
   "metadata": {},
   "outputs": [],
   "source": [
    "def computeDistance(x1, y1, x2, y2):\n",
    "    dsquare = np.square(x2-x1) + np.square(y2-y1)\n",
    "    return np.sqrt(dsquare)"
   ]
  },
  {
   "cell_type": "markdown",
   "metadata": {},
   "source": [
    "# function to make distance list"
   ]
  },
  {
   "cell_type": "code",
   "execution_count": 14,
   "metadata": {},
   "outputs": [],
   "source": [
    "def makeDistList(nCluster, pointList, cenList):\n",
    "    distList = []\n",
    "    for i in range(len(pointList[0])):\n",
    "        cenDist = []\n",
    "        for j in range(nCluster):\n",
    "            cenDist.append(computeDistance(pointList[0][i], pointList[1][i], \\\n",
    "                                          cenList[j][0], cenList[j][1]))\n",
    "        distList.append(cenDist)\n",
    "    return distList"
   ]
  },
  {
   "cell_type": "markdown",
   "metadata": {},
   "source": [
    "# define function to initialise label"
   ]
  },
  {
   "cell_type": "code",
   "execution_count": 15,
   "metadata": {},
   "outputs": [],
   "source": [
    "def initialiseLabel(nCluster, nPoint):\n",
    "    a = []\n",
    "    for i in range(nCluster*nPoint):\n",
    "        a.append(random.randint(1, nCluster)-1)\n",
    "            \n",
    "    return a"
   ]
  },
  {
   "cell_type": "markdown",
   "metadata": {},
   "source": [
    "# define function to compute centroid"
   ]
  },
  {
   "cell_type": "code",
   "execution_count": 16,
   "metadata": {},
   "outputs": [],
   "source": [
    "def computeCentroid(nCluster, nPoint, pointList, labelList):\n",
    "    a = []\n",
    "    res = []\n",
    "    #initialise list [sum_x, sum_y, num]\n",
    "    for i in range(nCluster):\n",
    "        a.append([0, 0, 0]) \n",
    "    for i in range(nCluster*nPoint):\n",
    "        a[labelList[i]][2] += 1\n",
    "        a[labelList[i]][0] += pointList[0][i]\n",
    "        a[labelList[i]][1] += pointList[1][i]\n",
    "    # get centroid by calculating mean value\n",
    "    for i in range(nCluster):\n",
    "        if(a[i][2] == 0): \n",
    "            res.append([np.random.rand()*500 - 250, np.random.rand()*500 - 250])\n",
    "        else:\n",
    "            res.append([a[i][0]/float(a[i][2]), a[i][1]/float(a[i][2])])\n",
    "    \n",
    "    return res"
   ]
  },
  {
   "cell_type": "markdown",
   "metadata": {},
   "source": [
    "# define fuction to assign label"
   ]
  },
  {
   "cell_type": "code",
   "execution_count": 17,
   "metadata": {},
   "outputs": [],
   "source": [
    "def assignLabel(nAllPoints, distList):\n",
    "    res = []\n",
    "    for i in range(nAllPoints):\n",
    "        res.append(0)\n",
    "    for i in range(nAllPoints):\n",
    "        res[i] = distList[i].index(np.amin(distList[i]))\n",
    "    return res"
   ]
  },
  {
   "cell_type": "markdown",
   "metadata": {},
   "source": [
    "# define function to compute energy"
   ]
  },
  {
   "cell_type": "code",
   "execution_count": 18,
   "metadata": {},
   "outputs": [],
   "source": [
    " # param : number of all points, list of points, list of centroid for each clusters, \n",
    " # list of label for each points\n",
    "def computeEnergy(nAllPoints, pointList, cenList, labelList):\n",
    "    energy = 0\n",
    "    for i in range(nAllPoints):\n",
    "        energy += np.square(computeDistance(pointList[0][i], pointList[1][i], \\\n",
    "                                            cenList[labelList[i]][0], \\\n",
    "                                            cenList[labelList[i]][1]))\n",
    "    energy = float(energy)/nAllPoints\n",
    "    return energy"
   ]
  },
  {
   "cell_type": "markdown",
   "metadata": {},
   "source": [
    "# initial input : setting k and number of points\n",
    "# k = 3\n",
    "# number of points = 100"
   ]
  },
  {
   "cell_type": "code",
   "execution_count": 45,
   "metadata": {},
   "outputs": [],
   "source": [
    "nCluster = 3\n",
    "nPoints = 100\n",
    "nAllPoints = nCluster*nPoints\n",
    "psPointList = generatePointCluster(nCluster, nPoints)\n",
    "label_0 = initialiseLabel(nCluster, nPoints)"
   ]
  },
  {
   "cell_type": "markdown",
   "metadata": {},
   "source": [
    "# setting color array to visualize labels"
   ]
  },
  {
   "cell_type": "code",
   "execution_count": 46,
   "metadata": {},
   "outputs": [],
   "source": [
    "colors = ['b', 'g', 'r', 'c', 'm', 'y', 'k', 'w']"
   ]
  },
  {
   "cell_type": "markdown",
   "metadata": {},
   "source": [
    "# attempt 1 : show initial data, label and initial centroid\n",
    "# (centroid is shown as a yellow triangle)\n",
    "# graph shows random centroid and labels"
   ]
  },
  {
   "cell_type": "code",
   "execution_count": 47,
   "metadata": {},
   "outputs": [
    {
     "name": "stdout",
     "output_type": "stream",
     "text": [
      "energy :  32273.195614681044\n"
     ]
    },
    {
     "data": {
      "image/png": "[encoded data removed]",
      "text/plain": [
       "<Figure size 432x288 with 1 Axes>"
      ]
     },
     "metadata": {},
     "output_type": "display_data"
    }
   ],
   "source": [
    "# compute centroid, distance, and energy\n",
    "cen_0 = computeCentroid(nCluster, nPoints, psPointList, label_0)\n",
    "dist_0 = makeDistList(nCluster, psPointList, cen_0)\n",
    "energy = computeEnergy(nAllPoints, psPointList, cen_0, label_0)\n",
    "# shows energy\n",
    "print(\"energy : \", energy)\n",
    "# plotting graph\n",
    "for j in range(nAllPoints): # visualize points\n",
    "    plt.scatter(psPointList[0][j], psPointList[1][j], c=colors[label_0[j]])\n",
    "for j in range(nCluster):   # visualize centroids\n",
    "    plt.scatter(cen_0[j][0], cen_0[j][1], s=90, marker='^', c='y')\n",
    "plt.show()\n",
    "# update label\n",
    "label_0 = assignLabel(nAllPoints, dist_0)"
   ]
  },
  {
   "cell_type": "markdown",
   "metadata": {},
   "source": [
    "# attempt 2 : left two clusters are finely distinguished, but the right top one is not clearly clustered\n",
    "# (code is skipped, because for each graph code is same as [47])"
   ]
  },
  {
   "cell_type": "code",
   "execution_count": 48,
   "metadata": {},
   "outputs": [
    {
     "name": "stdout",
     "output_type": "stream",
     "text": [
      "energy :  9174.813247798718\n"
     ]
    },
    {
     "data": {
      "image/png": "[encoded data removed]",
      "text/plain": [
       "<Figure size 432x288 with 1 Axes>"
      ]
     },
     "metadata": {},
     "output_type": "display_data"
    }
   ],
   "source": []
  },
  {
   "cell_type": "markdown",
   "metadata": {},
   "source": [
    "# attempt 3 : clustering completed."
   ]
  },
  {
   "cell_type": "code",
   "execution_count": 49,
   "metadata": {},
   "outputs": [
    {
     "name": "stdout",
     "output_type": "stream",
     "text": [
      "energy :  1563.5676942304583\n"
     ]
    },
    {
     "data": {
      "image/png": "[encoded data removed]",
      "text/plain": [
       "<Figure size 432x288 with 1 Axes>"
      ]
     },
     "metadata": {},
     "output_type": "display_data"
    }
   ],
   "source": []
  },
  {
   "cell_type": "markdown",
   "metadata": {},
   "source": [
    "# attempt 4 : Energy converges to 1563.56"
   ]
  },
  {
   "cell_type": "code",
   "execution_count": 51,
   "metadata": {},
   "outputs": [
    {
     "name": "stdout",
     "output_type": "stream",
     "text": [
      "energy :  1563.5676942304583\n"
     ]
    },
    {
     "data": {
      "image/png": "[encoded data removed]",
      "text/plain": [
       "<Figure size 432x288 with 1 Axes>"
      ]
     },
     "metadata": {},
     "output_type": "display_data"
    }
   ],
   "source": []
  }
 ],
 "metadata": {
  "kernelspec": {
   "display_name": "Python 3",
   "language": "python",
   "name": "python3"
  },
  "language_info": {
   "codemirror_mode": {
    "name": "ipython",
    "version": 3
   },
   "file_extension": ".py",
   "mimetype": "text/x-python",
   "name": "python",
   "nbconvert_exporter": "python",
   "pygments_lexer": "ipython3",
   "version": "3.6.5"
  }
 },
 "nbformat": 4,
 "nbformat_minor": 2
}
