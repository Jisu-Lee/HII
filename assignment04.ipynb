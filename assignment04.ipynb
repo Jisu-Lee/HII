{
 "cells": [
  {
   "cell_type": "markdown",
   "metadata": {},
   "source": [
    "# This script demonstrates MNIST clustering\n",
    "# Name : Ji-Su Lee\n",
    "# Student ID : 20141718\n",
    "# github link : https://github.com/Jisu-Lee/HII/tree/master/assignment04\n",
    "# 할것 : centroid 예외처리"
   ]
  },
  {
   "cell_type": "markdown",
   "metadata": {},
   "source": [
    "# import packages for plotting graphs and manipulating data:"
   ]
  },
  {
   "cell_type": "code",
   "execution_count": 9,
   "metadata": {},
   "outputs": [],
   "source": [
    "import numpy as np\n",
    "import matplotlib.pyplot as plt\n",
    "import random\n",
    "import matplotlib.cm as cm"
   ]
  },
  {
   "cell_type": "markdown",
   "metadata": {},
   "source": [
    "# [rm]define function to generate random point cluster"
   ]
  },
  {
   "cell_type": "code",
   "execution_count": 10,
   "metadata": {},
   "outputs": [],
   "source": [
    "def generatePointCluster(nCluster, nPoint):\n",
    "    a = np.random.rand(2, nCluster * nPoint)\n",
    "    for i in range(nCluster):\n",
    "        x_m = np.mean(a[0][i*nPoint:(i+1)*nPoint])\n",
    "        y_m = np.mean(a[1][i*nPoint:(i+1)*nPoint])\n",
    "        x_c = np.random.rand()*500 - 250\n",
    "        y_c = np.random.rand()*500 - 250\n",
    "        for j in range(i*nPoint, (i+1)*nPoint):\n",
    "            a[0][j] = (a[0][j] - x_m)*100 + x_c\n",
    "            a[1][j] = (a[1][j] - y_m)*100 + y_c\n",
    "    return a"
   ]
  },
  {
   "cell_type": "markdown",
   "metadata": {},
   "source": [
    "# define function to compute distance between two vectors"
   ]
  },
  {
   "cell_type": "code",
   "execution_count": 11,
   "metadata": {},
   "outputs": [],
   "source": [
    "def distance(x, y):\n",
    "\n",
    "    d = (x - y) ** 2\n",
    "    s = np.sum(d)\n",
    "    r = np.sqrt(s)\n",
    "\n",
    "    return(r)"
   ]
  },
  {
   "cell_type": "markdown",
   "metadata": {},
   "source": [
    "# normalize the values of the input data to be [0, 1]"
   ]
  },
  {
   "cell_type": "code",
   "execution_count": 12,
   "metadata": {},
   "outputs": [],
   "source": [
    "def normalize(data):\n",
    "\n",
    "    data_normalized = (data - min(data)) / (max(data) - min(data))\n",
    "\n",
    "    return(data_normalized)"
   ]
  },
  {
   "cell_type": "markdown",
   "metadata": {},
   "source": [
    "# function to make distance list"
   ]
  },
  {
   "cell_type": "code",
   "execution_count": 13,
   "metadata": {},
   "outputs": [],
   "source": [
    "def makeDistList(nCluster, pointList, cenList):\n",
    "    distList = []\n",
    "    for i in range(len(pointList[0])):\n",
    "        cenDist = []\n",
    "        for j in range(nCluster):\n",
    "            cenDist.append(computeDistance(pointList[0][i], pointList[1][i], \\\n",
    "                                          cenList[j][0], cenList[j][1]))\n",
    "        distList.append(cenDist)\n",
    "    return distList"
   ]
  },
  {
   "cell_type": "markdown",
   "metadata": {},
   "source": [
    "# make a matrix each column of which represents an images in a vector form "
   ]
  },
  {
   "cell_type": "code",
   "execution_count": 14,
   "metadata": {},
   "outputs": [
    {
     "ename": "NameError",
     "evalue": "name 'size_row' is not defined",
     "output_type": "error",
     "traceback": [
      "\u001b[1;31m---------------------------------------------------------------------------\u001b[0m",
      "\u001b[1;31mNameError\u001b[0m                                 Traceback (most recent call last)",
      "\u001b[1;32m<ipython-input-14-063a31a12086>\u001b[0m in \u001b[0;36m<module>\u001b[1;34m()\u001b[0m\n\u001b[1;32m----> 1\u001b[1;33m \u001b[0mlist_image\u001b[0m  \u001b[1;33m=\u001b[0m \u001b[0mnp\u001b[0m\u001b[1;33m.\u001b[0m\u001b[0mempty\u001b[0m\u001b[1;33m(\u001b[0m\u001b[1;33m(\u001b[0m\u001b[0msize_row\u001b[0m \u001b[1;33m*\u001b[0m \u001b[0msize_col\u001b[0m\u001b[1;33m,\u001b[0m \u001b[0mnum_image\u001b[0m\u001b[1;33m)\u001b[0m\u001b[1;33m,\u001b[0m \u001b[0mdtype\u001b[0m\u001b[1;33m=\u001b[0m\u001b[0mfloat\u001b[0m\u001b[1;33m)\u001b[0m\u001b[1;33m\u001b[0m\u001b[0m\n\u001b[0m\u001b[0;32m      2\u001b[0m \u001b[0mlist_label\u001b[0m  \u001b[1;33m=\u001b[0m \u001b[0mnp\u001b[0m\u001b[1;33m.\u001b[0m\u001b[0mempty\u001b[0m\u001b[1;33m(\u001b[0m\u001b[0mnum_image\u001b[0m\u001b[1;33m,\u001b[0m \u001b[0mdtype\u001b[0m\u001b[1;33m=\u001b[0m\u001b[0mint\u001b[0m\u001b[1;33m)\u001b[0m\u001b[1;33m\u001b[0m\u001b[0m\n\u001b[0;32m      3\u001b[0m \u001b[1;33m\u001b[0m\u001b[0m\n\u001b[0;32m      4\u001b[0m \u001b[1;32mfor\u001b[0m \u001b[0mline\u001b[0m \u001b[1;32min\u001b[0m \u001b[0mdata\u001b[0m\u001b[1;33m:\u001b[0m\u001b[1;33m\u001b[0m\u001b[0m\n\u001b[0;32m      5\u001b[0m \u001b[1;33m\u001b[0m\u001b[0m\n",
      "\u001b[1;31mNameError\u001b[0m: name 'size_row' is not defined"
     ]
    }
   ],
   "source": [
    "list_image  = np.empty((size_row * size_col, num_image), dtype=float)\n",
    "list_label  = np.empty(num_image, dtype=int)\n",
    "\n",
    "for line in data:\n",
    "\n",
    "    line_data   = line.split(',')\n",
    "    label       = line_data[0]\n",
    "    im_vector   = np.asfarray(line_data[1:])\n",
    "    im_vector   = normalize(im_vector)\n",
    "\n",
    "    list_label[count]       = label\n",
    "    list_image[:, count]    = im_vector    \n",
    "\n",
    "    count += 1"
   ]
  },
  {
   "cell_type": "markdown",
   "metadata": {},
   "source": [
    "# [rm]define function to initialise label"
   ]
  },
  {
   "cell_type": "code",
   "execution_count": 15,
   "metadata": {},
   "outputs": [],
   "source": [
    "def initialiseLabel(nCluster, nPoint):\n",
    "    a = []\n",
    "    for i in range(nCluster*nPoint):\n",
    "        a.append(random.randint(1, nCluster)-1)\n",
    "            \n",
    "    return a"
   ]
  },
  {
   "cell_type": "markdown",
   "metadata": {},
   "source": [
    "# define function to compute centroid"
   ]
  },
  {
   "cell_type": "code",
   "execution_count": 36,
   "metadata": {},
   "outputs": [],
   "source": [
    "def computeCentroid(nCluster, nData, dataList, labelList):\n",
    "    addData = []\n",
    "    numLabel = []\n",
    "    res = []\n",
    "    #initialise list [sum_of_data, num_of_data]\n",
    "    addData = np.zeros((nCluster, len(dataList[0])), dtype=float)\n",
    "    numLabel = np.zeros(nCluster, dtype=int)\n",
    "    for i in range(nData):\n",
    "        numLabel[labelList[i]] += 1\n",
    "        addData[labelList[i]]= np.add(addData[labelList[i]], dataList[i])\n",
    "    # get centroid by calculating mean value\n",
    "    print(addData)\n",
    "    print(numLabel)\n",
    "    for i in range(nCluster):\n",
    "       # if(a[i][2] == 0): \n",
    "        #    res.append([np.random.rand()*500 - 250, np.random.rand()*500 - 250])\n",
    "        #else:\n",
    "        res.append(np.divide(addData[i],numLabel[i]))\n",
    "    return res"
   ]
  },
  {
   "cell_type": "code",
   "execution_count": 37,
   "metadata": {},
   "outputs": [
    {
     "name": "stdout",
     "output_type": "stream",
     "text": [
      "[[ 6.  8. 10.]\n",
      " [ 2. 12. 12.]]\n",
      "[2 2]\n"
     ]
    },
    {
     "data": {
      "text/plain": [
       "[array([3., 4., 5.]), array([1., 6., 6.])]"
      ]
     },
     "execution_count": 37,
     "metadata": {},
     "output_type": "execute_result"
    }
   ],
   "source": [
    "nc = 2\n",
    "nd = 4\n",
    "data_list = [[1, 2, 3], [2, 3, 4], [0, 9, 8], [5, 6, 7]]\n",
    "label_list = [0, 1, 1, 0]\n",
    "computeCentroid(nc, nd, data_list, label_list)"
   ]
  },
  {
   "cell_type": "markdown",
   "metadata": {},
   "source": [
    "# define fuction to assign label"
   ]
  },
  {
   "cell_type": "code",
   "execution_count": 17,
   "metadata": {},
   "outputs": [],
   "source": [
    "def assignLabel(nAllPoints, distList):\n",
    "    res = []\n",
    "    for i in range(nAllPoints):\n",
    "        res.append(0)\n",
    "    for i in range(nAllPoints):\n",
    "        res[i] = distList[i].index(np.amin(distList[i]))\n",
    "    return res"
   ]
  },
  {
   "cell_type": "markdown",
   "metadata": {},
   "source": [
    "# define function to compute energy"
   ]
  },
  {
   "cell_type": "code",
   "execution_count": 18,
   "metadata": {},
   "outputs": [],
   "source": [
    " # param : number of all points, list of points, list of centroid for each clusters, \n",
    " # list of label for each points\n",
    "def computeEnergy(nAllPoints, pointList, cenList, labelList):\n",
    "    energy = 0\n",
    "    for i in range(nAllPoints):\n",
    "        energy += np.square(computeDistance(pointList[0][i], pointList[1][i], \\\n",
    "                                            cenList[labelList[i]][0], \\\n",
    "                                            cenList[labelList[i]][1]))\n",
    "    energy = float(energy)/nAllPoints\n",
    "    return energy"
   ]
  },
  {
   "cell_type": "markdown",
   "metadata": {},
   "source": [
    "# getting input"
   ]
  },
  {
   "cell_type": "code",
   "execution_count": 45,
   "metadata": {},
   "outputs": [],
   "source": [
    "file_data   = \"mnist_test.csv\"\n",
    "handle_file = open(file_data, \"r\")\n",
    "data        = handle_file.readlines()\n",
    "handle_file.close()\n",
    "\n",
    "size_row    = 28    # height of the image\n",
    "size_col    = 28    # width of the image\n",
    "\n",
    "num_image   = len(data)\n",
    "count       = 0     # count for the number of images"
   ]
  }
 ],
 "metadata": {
  "kernelspec": {
   "display_name": "Python 3",
   "language": "python",
   "name": "python3"
  },
  "language_info": {
   "codemirror_mode": {
    "name": "ipython",
    "version": 3
   },
   "file_extension": ".py",
   "mimetype": "text/x-python",
   "name": "python",
   "nbconvert_exporter": "python",
   "pygments_lexer": "ipython3",
   "version": "3.7.0"
  }
 },
 "nbformat": 4,
 "nbformat_minor": 2
}
